{
 "cells": [
  {
   "cell_type": "code",
   "execution_count": 16,
   "metadata": {},
   "outputs": [],
   "source": [
    "import ollama\n",
    "import json"
   ]
  },
  {
   "cell_type": "markdown",
   "metadata": {},
   "source": [
    "## Parameters"
   ]
  },
  {
   "cell_type": "markdown",
   "metadata": {},
   "source": [
    "### Ollama server"
   ]
  },
  {
   "cell_type": "code",
   "execution_count": null,
   "metadata": {},
   "outputs": [],
   "source": [
    "from ollama import Client, generate, embeddings\n",
    "ollama = Client(host='127.0.0.1:11434')"
   ]
  },
  {
   "cell_type": "markdown",
   "metadata": {},
   "source": [
    "### Paths"
   ]
  },
  {
   "cell_type": "code",
   "execution_count": 18,
   "metadata": {},
   "outputs": [],
   "source": [
    "DATA_PATH = \"/home/STual/isws/data\" #for prompts and datas\n",
    "OUTPUT_FOLDER_PATH = \"/home/STual/isws/outputs\" #for outputs"
   ]
  },
  {
   "cell_type": "markdown",
   "metadata": {},
   "source": [
    "### Test prompt"
   ]
  },
  {
   "cell_type": "code",
   "execution_count": 23,
   "metadata": {},
   "outputs": [],
   "source": [
    "prompt_context = \"\"\"\n",
    "You are ....\n",
    "\"\"\""
   ]
  },
  {
   "cell_type": "code",
   "execution_count": 24,
   "metadata": {},
   "outputs": [],
   "source": [
    "prompt_demand = \"\"\"For the given JSON intput, please produce ....\n",
    "\"\"\""
   ]
  },
  {
   "cell_type": "markdown",
   "metadata": {},
   "source": [
    "## Run"
   ]
  },
  {
   "cell_type": "code",
   "execution_count": 27,
   "metadata": {},
   "outputs": [],
   "source": [
    "MODEL = 'llama3'"
   ]
  },
  {
   "cell_type": "code",
   "execution_count": 28,
   "metadata": {},
   "outputs": [
    {
     "data": {
      "text/plain": [
       "'\\nYou are a digital humanities research assistant. \\nYour goal is to structure cells of a table that described one ore many land owners of a list of parcels. \\nOwner cells have been manually copied from archival records from the 19th century. Texts are in French.\\n\\nThere are special tokens in the text : \\n~~TEXT~~ : is markdown syntaxe to say that some part of the text is stripped in the original record\\n→ : means that there is a line break in the original record\\n↑TEXT↓ : means that the text superscript in the original record\\n\\nHere are some examples of inputs and their associated JSON outputs :\\n\\nInput:\\n{\\n  \"registre\": \"MAT_1813\",\\n  \"type_folio\": \"Non Bâti\",\\n  \"folio\": \"260\",\\n  \"groupe_cf\": \"1\",\\n  \"transcription\": \"Legendre→B↑re↓ fontainebleau\"\\n}\\nOutput:\\n{\"cell\":{\"registre\":\"MAT_1813\",\"type_folio\":\"Non Bâti\",\"folio\":\"260\",\"groupe_cf\": 1,\"transcription\":\"Legendre→B↑re↓ fontainebleau\",\"owners\":[{\"owner-id\":1,\"owner-lastname\":\"Legendre\",\"owner-address\":\"B↑re↓ fontainebleau\",\"is-stripped\":\"no\"}],\"changes\":[]}}\\n\\nInput:\\n{\\n  \"registre\": \"MAT_1813\",\\n  \"type_folio\": \"Non Bâti\",\\n  \"folio\": \"455\",\\n  \"groupe_cf\": \"1\",\\n  \"transcription\": \"~~Vincent, menuisier→(1829)→Desnet alexandre→rue de Vaugirard n°106→à Paris→(substitué en 1833)→~~(1835)→Deruelle→Pierre adrien m↑d↓ seaussier→rue mandar à Paris\"\\n}\\nOutput:\\n{\"cell\":{\"registre\":\"MAT_1813\",\"type_folio\":\"Non Bâti\",\"folio\":\"455\",\"groupe_cf\": 1,\"transcription\":\"~~Vincent, menuisier→(1829)→Desnet alexandre→rue de Vaugirard n°106→à Paris→(substitué en 1833)→~~(1835)→Deruelle→Pierre adrien m↑d↓ seaussier→rue mandar à Paris\",\"owners\":[{\"owner-id\":1,\"owner-lastname\":\"Vincent\",\"owner-job\":\"menuisier\",\"is-stripped\":\"yes\"},{\"owner-id\":2,\"owner-lastname\":\"Desnet\",\"owner-firstname\":\"alexandre\",\"owner-address\":\"rue de Vaugirard n°106→à Paris\",\"is-stripped\":\"yes\"},{\"owner-id\":3,\"owner-lastname\":\"Deruelle\",\"owner-firstname\":\"Pierre adrien\",\"owner-activity\":\"m↑d↓ seaussier\",\"owner-address\":\"rue mandar à Paris\",\"is-stripped\":\"no\"}],\"changes\":[{\"change-order\":1,\"owner-before\":1,\"owner-after\":2,\"date\":1829},{\"change-order\":2,\"owner-before\":2,\"owner-after\":3,\"date\":1835}]}}\\n\\nInput:\\n{\\n  \"registre\": \"MAT_1813\",\\n  \"type_folio\": \"Non Bâti\",\\n  \"folio\": \"124bis\",\\n  \"groupe_cf\": \"1\",\\n  \"transcription\": \"~~Deaubonne→rue tiers~~→à Gentilly→Allard→m° des 4 saisons Rue Thiers 1er (1836)\"\\n}\\nOutput:\\n{\"cell\":{\"registre\":\"MAT_1813\",\"type_folio\":\"Non Bâti\",\"folio\":\"124bis\",\"groupe_cf\": 1,\"transcription\":\"~~Deaubonne→rue tiers~~→à Gentilly→Allard→m° des 4 saisons Rue Thiers 1er (1836)\"},\"owners\":[{\"owner-id\":1,\"owner-lastname\":\"Deaubonne\",\"owner-address\":\"rue tiers à Gentilly\",\"is-stripped\":\"yes\"},{\"owner-id\":2,\"owner-lastname\":\"Allard\",\"owner-activity\":\"m° des 4 saisons\",\"owner-address\":\"Rue Thiers 1er\",\"is-stripped\":\"no\"}],\"changes\":[{\"change-order\":1,\"owner-before\":1,\"owner-after\":2,\"date\":1836}]}\\n\\nInput:\\n{\\n  \"registre\": \"MAT_1836\",\\n  \"type_folio\": \"Non Bâti\",\\n  \"folio\": \"617\",\\n  \"groupe_cf\": \"2\",\\n  \"transcription\": \"Glomod→Jean→maçon à Paris rue→du murier 4\"\\n}\\nOutput:\\n{\"cell\":{\"registre\":\"MAT_1836\",\"type_folio\":\"Non Bâti\",\"folio\":\"617\",\"groupe_cf\":2,\"transcription\":\"Glomod→Jean→maçon à Paris rue→du murier 4\"},\"owners\":[{\"owner-id\":1,\"owner-lastname\":\"Glomod\",\"owner-firstname\":\"Jean\",\"owner-activity\":\"maçon\",\"owner-address\":\"à Paris rue du murier 4\",\"is-stripped\":\"no\"}],\"changes\":[]}\\n\\nInput:\\n{\\n  \"registre\": \"MAT_1848\",\\n  \"type_folio\": \"Non Bâti\",\\n  \"folio\": \"847\",\\n  \"groupe_cf\": \"1\",\\n  \"transcription\": \"Gaignaud Marie Annie\"\\n}\\nOutput:\\n{\"cell\":{\"registre\":\"MAT_1848\",\"type_folio\":\"Non Bâti\",\"folio\":\"847\",\"groupe_cf\":1,\"transcription\":\"Gaignaud Marie Annie\"},\"owners\":[{\"owner-id\":1,\"owner-lastname\":\"Gaignaud\",\"owner-firstname\":\"Marie Annie\",\"is-stripped\":\"no\"}],\"changes\":[]}\\n\\nInput:\\n{\\n  \"registre\": \"MAT_1848\",\\n  \"type_folio\": \"Non Bâti\",\\n  \"folio\": \"857\",\\n  \"groupe_cf\": \"1\",\\n  \"transcription\": \"~~Tolosé françois~~ 1853 ~~Cavet, pierre Louis rue du Ponceau 6~~→p. 1855 Tavet pierre louis, rue du Ponceau 6\"\\n}\\nOutput:\\n{\"cell\":{\"registre\":\"MAT_1848\",\"type_folio\":\"Non Bâti\",\"folio\":\"857\",\"groupe_cf\":1,\"transcription\":\"~~Tolosé françois~~ 1853 ~~Cavet, pierre Louis rue du Ponceau 6~~→p. 1855 Tavet pierre louis, rue du Ponceau 6\"},\"owners\":[{\"owner-id\":1,\"owner-lastname\":\"Tolosé\",\"owner-firstname\":\"françois\",\"is-stripped\":\"yes\"},{\"owner-id\":2,\"owner-lastname\":\"Cavet\",\"owner-firstname\":\"pierre Louis\",\"owner-address\":\"rue du Ponceau 6\",\"is-stripped\":\"yes\"},{\"owner-id\":3,\"owner-lastname\":\"Tavet\",\"owner-firstname\":\"pierre louis\",\"owner-address\":\"rue du Ponceau 6\",\"is-stripped\":\"no\"}],\"changes\":[{\"change-order\":1,\"owner-before\":1,\"owner-after\":2,\"date\":1853},{\"change-order\":2,\"owner-before\":2,\"owner-after\":3,\"date\":1855}]}\\nFor the given JSON intput, please produce a JSON output that is structured as the following examples. \\nONLY RETURN A VALID JSON (output) AS RESPONSE and nothing else. do.\\n\\n'"
      ]
     },
     "execution_count": 28,
     "metadata": {},
     "output_type": "execute_result"
    }
   ],
   "source": [
    "prompt = prompt_context + \"\\n\" + prompt_demand + '\\n'\n",
    "prompt"
   ]
  },
  {
   "cell_type": "code",
   "execution_count": 47,
   "metadata": {},
   "outputs": [],
   "source": [
    "ollama.generate(model=MODEL,prompt=prompt)"
   ]
  }
 ],
 "metadata": {
  "kernelspec": {
   "display_name": ".venv",
   "language": "python",
   "name": "python3"
  },
  "language_info": {
   "codemirror_mode": {
    "name": "ipython",
    "version": 3
   },
   "file_extension": ".py",
   "mimetype": "text/x-python",
   "name": "python",
   "nbconvert_exporter": "python",
   "pygments_lexer": "ipython3",
   "version": "3.10.6"
  }
 },
 "nbformat": 4,
 "nbformat_minor": 2
}
