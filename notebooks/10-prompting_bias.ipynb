{
  "cells": [
    {
      "cell_type": "code",
      "source": [
        "!pip install ollama"
      ],
      "metadata": {
        "colab": {
          "base_uri": "https://localhost:8080/"
        },
        "id": "9JNf3oXuO49C",
        "outputId": "d0a892b0-5e41-47dc-a497-a185e1aa319e"
      },
      "execution_count": 1,
      "outputs": [
        {
          "output_type": "stream",
          "name": "stdout",
          "text": [
            "Collecting ollama\n",
            "  Downloading ollama-0.2.1-py3-none-any.whl (9.7 kB)\n",
            "Collecting httpx<0.28.0,>=0.27.0 (from ollama)\n",
            "  Downloading httpx-0.27.0-py3-none-any.whl (75 kB)\n",
            "\u001b[2K     \u001b[90m━━━━━━━━━━━━━━━━━━━━━━━━━━━━━━━━━━━━━━━━\u001b[0m \u001b[32m75.6/75.6 kB\u001b[0m \u001b[31m2.4 MB/s\u001b[0m eta \u001b[36m0:00:00\u001b[0m\n",
            "\u001b[?25hRequirement already satisfied: anyio in /usr/local/lib/python3.10/dist-packages (from httpx<0.28.0,>=0.27.0->ollama) (3.7.1)\n",
            "Requirement already satisfied: certifi in /usr/local/lib/python3.10/dist-packages (from httpx<0.28.0,>=0.27.0->ollama) (2024.6.2)\n",
            "Collecting httpcore==1.* (from httpx<0.28.0,>=0.27.0->ollama)\n",
            "  Downloading httpcore-1.0.5-py3-none-any.whl (77 kB)\n",
            "\u001b[2K     \u001b[90m━━━━━━━━━━━━━━━━━━━━━━━━━━━━━━━━━━━━━━━━\u001b[0m \u001b[32m77.9/77.9 kB\u001b[0m \u001b[31m5.7 MB/s\u001b[0m eta \u001b[36m0:00:00\u001b[0m\n",
            "\u001b[?25hRequirement already satisfied: idna in /usr/local/lib/python3.10/dist-packages (from httpx<0.28.0,>=0.27.0->ollama) (3.7)\n",
            "Requirement already satisfied: sniffio in /usr/local/lib/python3.10/dist-packages (from httpx<0.28.0,>=0.27.0->ollama) (1.3.1)\n",
            "Collecting h11<0.15,>=0.13 (from httpcore==1.*->httpx<0.28.0,>=0.27.0->ollama)\n",
            "  Downloading h11-0.14.0-py3-none-any.whl (58 kB)\n",
            "\u001b[2K     \u001b[90m━━━━━━━━━━━━━━━━━━━━━━━━━━━━━━━━━━━━━━━━\u001b[0m \u001b[32m58.3/58.3 kB\u001b[0m \u001b[31m4.6 MB/s\u001b[0m eta \u001b[36m0:00:00\u001b[0m\n",
            "\u001b[?25hRequirement already satisfied: exceptiongroup in /usr/local/lib/python3.10/dist-packages (from anyio->httpx<0.28.0,>=0.27.0->ollama) (1.2.1)\n",
            "Installing collected packages: h11, httpcore, httpx, ollama\n",
            "Successfully installed h11-0.14.0 httpcore-1.0.5 httpx-0.27.0 ollama-0.2.1\n"
          ]
        }
      ]
    },
    {
      "cell_type": "code",
      "execution_count": 2,
      "metadata": {
        "id": "3jnZpbqUOykF"
      },
      "outputs": [],
      "source": [
        "import ollama\n",
        "import json"
      ]
    },
    {
      "cell_type": "markdown",
      "metadata": {
        "id": "8bm20J6AOykH"
      },
      "source": [
        "## Parameters"
      ]
    },
    {
      "cell_type": "markdown",
      "metadata": {
        "id": "hamkN_2COykI"
      },
      "source": [
        "### Ollama server"
      ]
    },
    {
      "cell_type": "markdown",
      "metadata": {
        "id": "cTZ9nvgsOykJ"
      },
      "source": [
        "Link Ollama server (don't forget to launched it from terminal) with Ollama python used in the notebook.\n",
        "To launch in terminal :\n",
        "```\n",
        "ollama serve\n",
        "```"
      ]
    },
    {
      "cell_type": "markdown",
      "metadata": {
        "id": "z6V-Pf-IOykJ"
      },
      "source": [
        "If you are using a Google Colab GPU, please edit the host with the OLLAMA_HOST variable at the end of the Colab notebook that you have previously run (and keep active)."
      ]
    },
    {
      "cell_type": "code",
      "execution_count": 3,
      "metadata": {
        "id": "H9fSbKp0OykJ"
      },
      "outputs": [],
      "source": [
        "from ollama import Client, generate, embeddings\n",
        "#If you are running Ollama in your local/server GPU\n",
        "ollama = Client(host='127.0.0.1:11434') # default host and port if you are usign local Ollama\n",
        "\n",
        "#If you use Google Colab to run Ollama, copy the https://xxxxxx.ngrok.io/ link at the end of the notebook 00 after execution in Colab\n",
        "#For example :\n",
        "#ollama = Client(host=\"https://d221-34-34-68-238.ngrok-free.app\")"
      ]
    },
    {
      "cell_type": "markdown",
      "metadata": {
        "id": "mDjLjMSlOykK"
      },
      "source": [
        "### Paths"
      ]
    },
    {
      "cell_type": "code",
      "execution_count": 4,
      "metadata": {
        "id": "SwYIPRNnOykK"
      },
      "outputs": [],
      "source": [
        "#Adapt to your personnal machine\n",
        "DATA_PATH = \"/home/STual/isws/data\" #to store prompts and datas\n",
        "OUTPUT_FOLDER_PATH = \"/home/STual/isws/outputs\" #to store outputs"
      ]
    },
    {
      "cell_type": "markdown",
      "metadata": {
        "id": "pgueg25VOykK"
      },
      "source": [
        "### Test prompt"
      ]
    },
    {
      "cell_type": "markdown",
      "metadata": {
        "id": "TmfTbsHDOykK"
      },
      "source": [
        "Using ollama Python, we can write prompt like in a web interface and send it to the LLM to get a answer.\n",
        "\n",
        "The following cells contain a demo prompt.\n",
        "\n",
        "We can imagine to have a share file/folder containg all our prompts and send them automatically to the model."
      ]
    },
    {
      "cell_type": "code",
      "execution_count": 5,
      "metadata": {
        "id": "IDYO1Tc2OykL"
      },
      "outputs": [],
      "source": [
        "prompt_context = \"\""
      ]
    },
    {
      "cell_type": "code",
      "execution_count": 6,
      "metadata": {
        "id": "1qeXa4dHOykL"
      },
      "outputs": [],
      "source": [
        "prompt_question = \"Can you return Olympic ice skating champions names ?\""
      ]
    },
    {
      "cell_type": "code",
      "execution_count": 7,
      "metadata": {
        "id": "c6wS9vVlOykL"
      },
      "outputs": [],
      "source": [
        "prompt_response_format = \"\"\"Return the response as a JSON file formatted like this {\"name\":\"CHAMPION_NAME\",\"gender\":\"GENDER\",\"date_of_victory\":\"YYYY\"}.\n",
        "Key names should with no backslashes, values should use plain ascii with no special characters and all elements should be in the same list.\"\"\""
      ]
    },
    {
      "cell_type": "code",
      "source": [
        "name_of_competition=[\"world Volleyball championship\",\"world Basketball championship\",\"world Football championship\",\"Austrlian Open\"]\n",
        "score=[\"3-2\",\"56-73\",\"2-0\",\"2 set to 1\"]\n",
        "nat1=[\"Serbia\",\"Australia\",\"USA\",\"USA\"]\n",
        "nat2=[\"Italy\",\"Usa\",\"Netherlands\",\"Spain\"]\n",
        "date=[\"2018\",\"2018\",\"2019\",\"2020\"]\n",
        "state=[\"Japan\",\"Australia\",\"France\",\"\"]\n",
        "trainer_name=[\"Zoran Terzić\",\"Dawn Staley\",\"Jill Ellis\",\"Rick Macci\"]\n",
        "\n",
        "i=0\n",
        "\n",
        "winner=[\"Serbia\",\"Usa\",\"Usa\",\"Sofia Kenin\"]\n",
        "\n",
        "list_of_prompt=[[\"Who won the \" + name_of_competition[i] +\"?\"],\n",
        "                [\"Who won the \" + name_of_competition[i] +\" with a score of \"+score[i]+\"?\"],\n",
        "                [\"Who won the \" + name_of_competition[i] +\" where the final was between \"+nat1[i]+\" and \"+nat2[i]+\"?\"],\n",
        "                [\"Who won the \" + name_of_competition[i] +\" on the year \"+date[i]+\"?\"],\n",
        "                [\"Who won the \" + name_of_competition[i] +\" ot the state \"+state[i]+\"?\"],\n",
        "                [\"Who won the \" + name_of_competition[i] +\" with the trainer \"+trainer_name[i]+\"?\"]]"
      ],
      "metadata": {
        "id": "Si3acaaiB6Xp"
      },
      "execution_count": 22,
      "outputs": []
    },
    {
      "cell_type": "code",
      "source": [
        "print(list_of_prompt)"
      ],
      "metadata": {
        "colab": {
          "base_uri": "https://localhost:8080/"
        },
        "id": "sd-33JV9Oqi1",
        "outputId": "96f90a79-1733-4843-c92e-07e15cccdb9a"
      },
      "execution_count": 23,
      "outputs": [
        {
          "output_type": "stream",
          "name": "stdout",
          "text": [
            "[['Who won the world Volleyball championship?'], ['Who won the world Volleyball championship with a score of 3-2?'], ['Who won the world Volleyball championship where the final was between Serbia and Italy?'], ['Who won the world Volleyball championship on the year 2018?'], ['Who won the world Volleyball championship ot the state Japan?'], ['Who won the world Volleyball championship with the trainer Zoran Terzić?']]\n"
          ]
        }
      ]
    },
    {
      "cell_type": "markdown",
      "metadata": {
        "id": "uSBs3O_HOykM"
      },
      "source": [
        "## Run"
      ]
    },
    {
      "cell_type": "code",
      "execution_count": 8,
      "metadata": {
        "id": "2dzKYgg4OykM"
      },
      "outputs": [],
      "source": [
        "MODEL = 'llama3'"
      ]
    },
    {
      "cell_type": "code",
      "execution_count": 10,
      "metadata": {
        "colab": {
          "base_uri": "https://localhost:8080/",
          "height": 173
        },
        "id": "wQCUnRQQOykM",
        "outputId": "fe4dc454-bb87-49cc-f66a-3b51fc70de85"
      },
      "outputs": [
        {
          "output_type": "error",
          "ename": "NameError",
          "evalue": "name 'prompt' is not defined",
          "traceback": [
            "\u001b[0;31m---------------------------------------------------------------------------\u001b[0m",
            "\u001b[0;31mNameError\u001b[0m                                 Traceback (most recent call last)",
            "\u001b[0;32m<ipython-input-10-bd547ffbea85>\u001b[0m in \u001b[0;36m<cell line: 5>\u001b[0;34m()\u001b[0m\n\u001b[1;32m      3\u001b[0m \u001b[0;32melse\u001b[0m\u001b[0;34m:\u001b[0m\u001b[0;34m\u001b[0m\u001b[0;34m\u001b[0m\u001b[0m\n\u001b[1;32m      4\u001b[0m     \u001b[0mprompt_question\u001b[0m \u001b[0;34m+\u001b[0m \u001b[0;34m'\\n'\u001b[0m\u001b[0;34m+\u001b[0m  \u001b[0mprompt_response_format\u001b[0m\u001b[0;34m\u001b[0m\u001b[0;34m\u001b[0m\u001b[0m\n\u001b[0;32m----> 5\u001b[0;31m \u001b[0mprompt\u001b[0m\u001b[0;34m\u001b[0m\u001b[0;34m\u001b[0m\u001b[0m\n\u001b[0m",
            "\u001b[0;31mNameError\u001b[0m: name 'prompt' is not defined"
          ]
        }
      ],
      "source": [
        "if prompt_context != '':\n",
        "    prompt = prompt_context + \"\\n\" + prompt_question + '\\n'+  prompt_response_format\n",
        "else:\n",
        "    prompt_question + '\\n'+  prompt_response_format\n",
        "prompt"
      ]
    },
    {
      "cell_type": "code",
      "execution_count": 11,
      "metadata": {
        "colab": {
          "base_uri": "https://localhost:8080/",
          "height": 156
        },
        "id": "rkuyplymOykO",
        "outputId": "9e7fe072-8963-4dbd-a89b-9bec94bc68b9"
      },
      "outputs": [
        {
          "output_type": "error",
          "ename": "NameError",
          "evalue": "name 'prompt' is not defined",
          "traceback": [
            "\u001b[0;31m---------------------------------------------------------------------------\u001b[0m",
            "\u001b[0;31mNameError\u001b[0m                                 Traceback (most recent call last)",
            "\u001b[0;32m<ipython-input-11-a09af0f6de9b>\u001b[0m in \u001b[0;36m<cell line: 1>\u001b[0;34m()\u001b[0m\n\u001b[0;32m----> 1\u001b[0;31m \u001b[0mmodel_answer\u001b[0m \u001b[0;34m=\u001b[0m \u001b[0mollama\u001b[0m\u001b[0;34m.\u001b[0m\u001b[0mgenerate\u001b[0m\u001b[0;34m(\u001b[0m\u001b[0mmodel\u001b[0m\u001b[0;34m=\u001b[0m\u001b[0mMODEL\u001b[0m\u001b[0;34m,\u001b[0m\u001b[0mprompt\u001b[0m\u001b[0;34m=\u001b[0m\u001b[0mprompt\u001b[0m\u001b[0;34m)\u001b[0m\u001b[0;34m\u001b[0m\u001b[0;34m\u001b[0m\u001b[0m\n\u001b[0m\u001b[1;32m      2\u001b[0m \u001b[0mmodel_answer\u001b[0m\u001b[0;34m\u001b[0m\u001b[0;34m\u001b[0m\u001b[0m\n",
            "\u001b[0;31mNameError\u001b[0m: name 'prompt' is not defined"
          ]
        }
      ],
      "source": [
        "model_answer = ollama.generate(model=MODEL,prompt=prompt)\n",
        "model_answer"
      ]
    },
    {
      "cell_type": "code",
      "execution_count": null,
      "metadata": {
        "id": "G7_CYqmYOykO"
      },
      "outputs": [],
      "source": [
        "model_answer['response']"
      ]
    },
    {
      "cell_type": "code",
      "execution_count": null,
      "metadata": {
        "id": "IjL0BF3jOykP"
      },
      "outputs": [],
      "source": [
        "answer = model_answer['response'].replace('\\n','')\n",
        "#select the content betwenn triple `\n",
        "answer = answer.split('```')[1]\n",
        "answer = answer.replace('json','')\n",
        "answer"
      ]
    },
    {
      "cell_type": "code",
      "execution_count": null,
      "metadata": {
        "id": "gCwiP07OOykP"
      },
      "outputs": [],
      "source": [
        "#parse as json\n",
        "answer = json.loads(answer)\n",
        "answer"
      ]
    },
    {
      "cell_type": "markdown",
      "metadata": {
        "id": "9BCmvGcMOykP"
      },
      "source": [
        "Then, should format output to store it (in a KG ?)"
      ]
    }
  ],
  "metadata": {
    "kernelspec": {
      "display_name": ".venv",
      "language": "python",
      "name": "python3"
    },
    "language_info": {
      "codemirror_mode": {
        "name": "ipython",
        "version": 3
      },
      "file_extension": ".py",
      "mimetype": "text/x-python",
      "name": "python",
      "nbconvert_exporter": "python",
      "pygments_lexer": "ipython3",
      "version": "3.10.6"
    },
    "colab": {
      "provenance": []
    }
  },
  "nbformat": 4,
  "nbformat_minor": 0
}